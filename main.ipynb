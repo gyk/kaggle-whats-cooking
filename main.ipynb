{
 "cells": [
  {
   "cell_type": "markdown",
   "metadata": {},
   "source": [
    "kaggle - What's Cooking\n",
    "--------\n",
    "\n",
    "Code stolen from:\n",
    "\n",
    "1. https://www.kaggle.com/c/whats-cooking/forums/t/16421/kaggle-scripts/92517\n"
   ]
  },
  {
   "cell_type": "code",
   "execution_count": 1,
   "metadata": {
    "collapsed": false
   },
   "outputs": [],
   "source": [
    "import json\n",
    "import numpy as np\n",
    "from sklearn import metrics"
   ]
  },
  {
   "cell_type": "code",
   "execution_count": 2,
   "metadata": {
    "collapsed": false
   },
   "outputs": [],
   "source": [
    "with open('data/train.json') as train_f, open('data/test.json') as test_f:\n",
    "    train_data = json.load(train_f)\n",
    "    test_data = json.load(test_f)\n",
    "    \n",
    "train_X = [' '.join(e['ingredients']) for e in train_data]\n",
    "train_y = [e['cuisine'] for e in train_data]\n",
    "test_X =  [' '.join(e['ingredients']) for e in test_data]\n",
    "test_id = [e['id'] for e in test_data]  # for writing CSV"
   ]
  },
  {
   "cell_type": "code",
   "execution_count": 3,
   "metadata": {
    "collapsed": false
   },
   "outputs": [],
   "source": [
    "from sklearn.preprocessing import LabelEncoder\n",
    "from sklearn.feature_extraction.text import CountVectorizer\n",
    "from sklearn.cross_validation import train_test_split\n",
    "\n",
    "le = LabelEncoder()\n",
    "ngram_vectorizer = CountVectorizer()\n",
    "train_y = le.fit_transform(train_y)\n",
    "train_X = ngram_vectorizer.fit_transform(train_X).toarray()\n",
    "test_X = ngram_vectorizer.transform(test_X).toarray()\n",
    "\n",
    "valid_X = np.empty((0, train_X.shape[1]))\n",
    "valid_y = np.empty(0)"
   ]
  },
  {
   "cell_type": "code",
   "execution_count": 4,
   "metadata": {
    "collapsed": false
   },
   "outputs": [
    {
     "name": "stdout",
     "output_type": "stream",
     "text": [
      "(39774L, 3010L)\n",
      "(39774L,)\n",
      "(0L, 3010L)\n",
      "(0L,)\n",
      "(9944L, 3010L)\n"
     ]
    }
   ],
   "source": [
    "print train_X.shape\n",
    "print train_y.shape\n",
    "print valid_X.shape\n",
    "print valid_y.shape\n",
    "print test_X.shape"
   ]
  },
  {
   "cell_type": "code",
   "execution_count": 5,
   "metadata": {
    "collapsed": false,
    "scrolled": true
   },
   "outputs": [],
   "source": [
    "train_X = np.vstack([train_X, valid_X])\n",
    "train_y = np.hstack([train_y, valid_y])\n",
    "\n",
    "train_X, valid_X, train_y, valid_y = train_test_split(train_X, train_y, train_size=0.7, random_state=42)"
   ]
  },
  {
   "cell_type": "code",
   "execution_count": 6,
   "metadata": {
    "collapsed": false
   },
   "outputs": [
    {
     "name": "stdout",
     "output_type": "stream",
     "text": [
      "(27841L, 3010L) (11933L, 3010L) (27841L,) (11933L,)\n"
     ]
    }
   ],
   "source": [
    "print train_X.shape, valid_X.shape, train_y.shape, valid_y.shape"
   ]
  },
  {
   "cell_type": "code",
   "execution_count": 7,
   "metadata": {
    "collapsed": false
   },
   "outputs": [
    {
     "name": "stdout",
     "output_type": "stream",
     "text": [
      "0.781614011565\n"
     ]
    }
   ],
   "source": [
    "from sklearn.linear_model import LogisticRegression\n",
    "clf_log_reg = LogisticRegression(C=1, multi_class='ovr')\n",
    "clf_log_reg.fit(train_X, train_y)\n",
    "\n",
    "valid_y_pred = clf_log_reg.predict(valid_X)\n",
    "print metrics.accuracy_score(valid_y, valid_y_pred)"
   ]
  },
  {
   "cell_type": "code",
   "execution_count": 8,
   "metadata": {
    "collapsed": false
   },
   "outputs": [
    {
     "name": "stdout",
     "output_type": "stream",
     "text": [
      "0.77264728065\n"
     ]
    }
   ],
   "source": [
    "from sklearn.svm import LinearSVC\n",
    "from sklearn.multiclass import OneVsRestClassifier\n",
    "clf_svm = OneVsRestClassifier(LinearSVC(C=1, penalty='l2', dual=False))\n",
    "clf_svm.fit(train_X, train_y)\n",
    "\n",
    "valid_y_pred = clf_svm.predict(valid_X)\n",
    "print metrics.accuracy_score(valid_y, valid_y_pred)"
   ]
  },
  {
   "cell_type": "code",
   "execution_count": 9,
   "metadata": {
    "collapsed": false
   },
   "outputs": [
    {
     "name": "stdout",
     "output_type": "stream",
     "text": [
      "0.772814883097\n"
     ]
    }
   ],
   "source": [
    "from sklearn.linear_model import SGDClassifier\n",
    "clf_sgd = SGDClassifier(loss='log', penalty='elasticnet', alpha=0.00001, l1_ratio=0.55, n_iter=100, shuffle=True, \n",
    "                        epsilon=1e-2, n_jobs=4, learning_rate='optimal', eta0=0.0)\n",
    "clf_sgd.fit(train_X, train_y)\n",
    "\n",
    "valid_y_pred = clf_sgd.predict(valid_X)\n",
    "print metrics.accuracy_score(valid_y, valid_y_pred)"
   ]
  },
  {
   "cell_type": "code",
   "execution_count": 10,
   "metadata": {
    "collapsed": false
   },
   "outputs": [],
   "source": [
    "# Final submission using LR\n",
    "from pandas import DataFrame\n",
    "from collections import OrderedDict\n",
    "clf = LogisticRegression(C=1, multi_class='ovr')\n",
    "clf.fit(np.vstack([train_X, valid_X]), np.hstack([train_y, valid_y]))\n",
    "\n",
    "test_y = clf.predict(test_X)\n",
    "test_y = le.inverse_transform(test_y.astype(int))\n",
    "\n",
    "d = DataFrame(data=OrderedDict([('id', test_id), ('cuisine', test_y)]))\n",
    "d.to_csv('submission.csv', index=False)"
   ]
  },
  {
   "cell_type": "markdown",
   "metadata": {},
   "source": [
    "Test XGBoost\n",
    "--------"
   ]
  },
  {
   "cell_type": "code",
   "execution_count": 11,
   "metadata": {
    "collapsed": false
   },
   "outputs": [],
   "source": [
    "import xgboost as xgb\n",
    "xgb_train = xgb.DMatrix(train_X, label=train_y)\n",
    "xgb_valid = xgb.DMatrix(valid_X, label=valid_y)"
   ]
  },
  {
   "cell_type": "code",
   "execution_count": 12,
   "metadata": {
    "collapsed": true
   },
   "outputs": [],
   "source": [
    "param = {\n",
    "    'objective': 'multi:softmax',\n",
    "    'eta': 0.1,  # weight shrinkage\n",
    "    'max_depth': 36,\n",
    "    'silent': 1,\n",
    "    'subsample': 0.75,\n",
    "    'colsample_bytree': 0.5,  # what's this?\n",
    "}\n",
    "\n",
    "param['nthread'] = 8\n",
    "param['num_class'] = len(le.classes_)\n",
    "\n",
    "watchlist = [ (xgb_train,'train'), (xgb_valid, 'valid') ]\n",
    "n_rounds = 150\n",
    "bst = xgb.train(param, xgb_train, n_rounds, watchlist, early_stopping_rounds=80);\n",
    "print \"XGBoost training done!\"\n",
    "\n",
    "valid_y_pred = bst.predict(xgb_valid);\n",
    "print metrics.accuracy_score(valid_y, valid_y_pred)"
   ]
  },
  {
   "cell_type": "code",
   "execution_count": 13,
   "metadata": {
    "collapsed": false
   },
   "outputs": [],
   "source": [
    "from pandas import DataFrame\n",
    "from collections import OrderedDict\n",
    "\n",
    "test_y = bst.predict(xgb.DMatrix(test_X))\n",
    "test_y = le.inverse_transform(test_y.astype(int))\n",
    "\n",
    "d = DataFrame(data=OrderedDict([('id', test_id), ('cuisine', test_y)]))\n",
    "d.to_csv('submission.csv', index=False)"
   ]
  }
 ],
 "metadata": {
  "kernelspec": {
   "display_name": "Python 2",
   "language": "python",
   "name": "python2"
  },
  "language_info": {
   "codemirror_mode": {
    "name": "ipython",
    "version": 2
   },
   "file_extension": ".py",
   "mimetype": "text/x-python",
   "name": "python",
   "nbconvert_exporter": "python",
   "pygments_lexer": "ipython2",
   "version": "2.7.5"
  }
 },
 "nbformat": 4,
 "nbformat_minor": 0
}
